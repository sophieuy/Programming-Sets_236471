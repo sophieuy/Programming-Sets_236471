{
 "cells": [
  {
   "cell_type": "code",
   "execution_count": 7,
   "id": "4305bdf6-dd02-472f-b0b1-3a29a841b528",
   "metadata": {},
   "outputs": [
    {
     "name": "stdout",
     "output_type": "stream",
     "text": [
      "Number of lines: 99968\n",
      "Number of words: 793395\n",
      "Frequency of the word 'apostle': 47\n",
      "Most common word: the\n"
     ]
    }
   ],
   "source": [
    "import urllib.request\n",
    "\n",
    "with urllib. request.urlopen('https://www.gutenberg.org/cache/epub/10/pg10.txt') as response:\n",
    "    website_data=response.read()\n",
    "\n",
    "pg10=website_data. decode()\n",
    "#Note: the decode function's default is utf-8\n",
    "\n",
    "#Number of Lines\n",
    "lines=pg10. splitlines()\n",
    "line_count=len(lines)\n",
    "print (f\"Number of lines: {line_count}\")\n",
    "\n",
    "#Number of Words \n",
    "words=pg10. split()\n",
    "\n",
    "def cleaned(word):\n",
    "    return any(char.isalpha() for char in word)\n",
    "    \n",
    "filtered_words=[word for word in words if cleaned (word)]\n",
    "wc=len (filtered_words)\n",
    "print (f\"Number of words: {wc}\")\n",
    "\n",
    "#Frequency of the word \"apostle\" \n",
    "exact_word = \"apostle\"\n",
    "word_counter=0\n",
    "\n",
    "for word in words:\n",
    "    cleaned_word=''.join(char for char in word if char.isalpha())\n",
    "    if cleaned_word.lower() == exact_word:\n",
    "        word_counter += 1\n",
    "        \n",
    "print(f\"Frequency of the word 'apostle': {word_counter}\")\n",
    "\n",
    "#Most common word\n",
    "cleaned_text = ''.join(char if char.isalpha() else ' ' for char in pg10)\n",
    "data = cleaned_text.split()\n",
    "\n",
    "word_count = {}\n",
    "for word in data:\n",
    "    word_lower=word.lower()\n",
    "    if word_lower in word_count:\n",
    "        word_count[word_lower] += 1\n",
    "    else:\n",
    "        word_count [word_lower] = 1\n",
    "        \n",
    "most_common_word = max(word_count, key=word_count. get)\n",
    "print (f\"Most common word: {most_common_word}\")"
   ]
  },
  {
   "cell_type": "code",
   "execution_count": null,
   "id": "cca7f77d-f09b-4924-8502-3b941ec76787",
   "metadata": {},
   "outputs": [],
   "source": []
  }
 ],
 "metadata": {
  "kernelspec": {
   "display_name": "Python 3 (ipykernel)",
   "language": "python",
   "name": "python3"
  },
  "language_info": {
   "codemirror_mode": {
    "name": "ipython",
    "version": 3
   },
   "file_extension": ".py",
   "mimetype": "text/x-python",
   "name": "python",
   "nbconvert_exporter": "python",
   "pygments_lexer": "ipython3",
   "version": "3.11.7"
  }
 },
 "nbformat": 4,
 "nbformat_minor": 5
}
